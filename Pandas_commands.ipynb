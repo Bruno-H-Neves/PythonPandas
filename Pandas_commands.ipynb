{
 "cells": [
  {
   "cell_type": "code",
   "execution_count": 108,
   "metadata": {},
   "outputs": [
    {
     "name": "stdout",
     "output_type": "stream",
     "text": [
      "1.2.4\n"
     ]
    }
   ],
   "source": [
    "#inicializar a biblioteca\n",
    "import pandas as pd\n",
    "import numpy as np\n",
    "\n",
    "\n",
    "print(pd.__version__)"
   ]
  },
  {
   "cell_type": "markdown",
   "metadata": {},
   "source": [
    "# 1- DataFrames\n"
   ]
  },
  {
   "cell_type": "markdown",
   "metadata": {},
   "source": [
    "## 1.1.1- Com base em arquivos existentes"
   ]
  },
  {
   "cell_type": "code",
   "execution_count": 109,
   "metadata": {},
   "outputs": [
    {
     "data": {
      "text/html": [
       "<div>\n",
       "<style scoped>\n",
       "    .dataframe tbody tr th:only-of-type {\n",
       "        vertical-align: middle;\n",
       "    }\n",
       "\n",
       "    .dataframe tbody tr th {\n",
       "        vertical-align: top;\n",
       "    }\n",
       "\n",
       "    .dataframe thead th {\n",
       "        text-align: right;\n",
       "    }\n",
       "</style>\n",
       "<table border=\"1\" class=\"dataframe\">\n",
       "  <thead>\n",
       "    <tr style=\"text-align: right;\">\n",
       "      <th></th>\n",
       "      <th>Unnamed: 0</th>\n",
       "      <th>D/H Sample</th>\n",
       "      <th>...</th>\n",
       "      <th>humidade</th>\n",
       "      <th>pressao</th>\n",
       "    </tr>\n",
       "  </thead>\n",
       "  <tbody>\n",
       "    <tr>\n",
       "      <th>0</th>\n",
       "      <td>0</td>\n",
       "      <td>2...</td>\n",
       "      <td>...</td>\n",
       "      <td>60.0</td>\n",
       "      <td>1...</td>\n",
       "    </tr>\n",
       "    <tr>\n",
       "      <th>1</th>\n",
       "      <td>1</td>\n",
       "      <td>2...</td>\n",
       "      <td>...</td>\n",
       "      <td>88.0</td>\n",
       "      <td>1...</td>\n",
       "    </tr>\n",
       "    <tr>\n",
       "      <th>2</th>\n",
       "      <td>2</td>\n",
       "      <td>2...</td>\n",
       "      <td>...</td>\n",
       "      <td>99.0</td>\n",
       "      <td>-99.0</td>\n",
       "    </tr>\n",
       "    <tr>\n",
       "      <th>3</th>\n",
       "      <td>3</td>\n",
       "      <td>2...</td>\n",
       "      <td>...</td>\n",
       "      <td>84.0</td>\n",
       "      <td>1...</td>\n",
       "    </tr>\n",
       "    <tr>\n",
       "      <th>4</th>\n",
       "      <td>4</td>\n",
       "      <td>2...</td>\n",
       "      <td>...</td>\n",
       "      <td>96.0</td>\n",
       "      <td>1...</td>\n",
       "    </tr>\n",
       "  </tbody>\n",
       "</table>\n",
       "<p>5 rows × 11 columns</p>\n",
       "</div>"
      ],
      "text/plain": [
       "   Unnamed: 0 D/H Sample  ...  humidade  pressao\n",
       "0     0        2...       ...  60.0      1...   \n",
       "1     1        2...       ...  88.0      1...   \n",
       "2     2        2...       ...  99.0     -99.0   \n",
       "3     3        2...       ...  84.0      1...   \n",
       "4     4        2...       ...  96.0      1...   \n",
       "\n",
       "[5 rows x 11 columns]"
      ]
     },
     "execution_count": 109,
     "metadata": {},
     "output_type": "execute_result"
    }
   ],
   "source": [
    "df = pd.read_csv(\"dataset.csv\", sep = ',', decimal='.', skiprows=None)\n",
    "DF = pd.read_csv('dataset.csv', sep=',',skiprows=None, dtype={'ID ':int,'temperatura':float})\n",
    "DF.head()"
   ]
  },
  {
   "cell_type": "markdown",
   "metadata": {},
   "source": [
    "## 1.1.2- Sem referencia a arquivo "
   ]
  },
  {
   "cell_type": "code",
   "execution_count": 110,
   "metadata": {},
   "outputs": [
    {
     "data": {
      "text/html": [
       "<div>\n",
       "<style scoped>\n",
       "    .dataframe tbody tr th:only-of-type {\n",
       "        vertical-align: middle;\n",
       "    }\n",
       "\n",
       "    .dataframe tbody tr th {\n",
       "        vertical-align: top;\n",
       "    }\n",
       "\n",
       "    .dataframe thead th {\n",
       "        text-align: right;\n",
       "    }\n",
       "</style>\n",
       "<table border=\"1\" class=\"dataframe\">\n",
       "  <thead>\n",
       "    <tr style=\"text-align: right;\">\n",
       "      <th></th>\n",
       "      <th>A</th>\n",
       "      <th>B</th>\n",
       "      <th>C</th>\n",
       "      <th>D</th>\n",
       "    </tr>\n",
       "  </thead>\n",
       "  <tbody>\n",
       "    <tr>\n",
       "      <th>2021-12-15 12:49:10.648600</th>\n",
       "      <td>0...</td>\n",
       "      <td>0...</td>\n",
       "      <td>0...</td>\n",
       "      <td>-0...</td>\n",
       "    </tr>\n",
       "    <tr>\n",
       "      <th>2021-12-16 12:49:10.648600</th>\n",
       "      <td>2...</td>\n",
       "      <td>0...</td>\n",
       "      <td>1...</td>\n",
       "      <td>0...</td>\n",
       "    </tr>\n",
       "    <tr>\n",
       "      <th>2021-12-17 12:49:10.648600</th>\n",
       "      <td>1...</td>\n",
       "      <td>-0...</td>\n",
       "      <td>0...</td>\n",
       "      <td>-0...</td>\n",
       "    </tr>\n",
       "    <tr>\n",
       "      <th>2021-12-18 12:49:10.648600</th>\n",
       "      <td>-0...</td>\n",
       "      <td>1...</td>\n",
       "      <td>-0...</td>\n",
       "      <td>-1...</td>\n",
       "    </tr>\n",
       "    <tr>\n",
       "      <th>2021-12-19 12:49:10.648600</th>\n",
       "      <td>-1...</td>\n",
       "      <td>-0...</td>\n",
       "      <td>0...</td>\n",
       "      <td>-0...</td>\n",
       "    </tr>\n",
       "    <tr>\n",
       "      <th>2021-12-20 12:49:10.648600</th>\n",
       "      <td>-0...</td>\n",
       "      <td>-0...</td>\n",
       "      <td>1...</td>\n",
       "      <td>0...</td>\n",
       "    </tr>\n",
       "  </tbody>\n",
       "</table>\n",
       "</div>"
      ],
      "text/plain": [
       "          A     B     C     D\n",
       "20...  0...  0...  0... -0...\n",
       "20...  2...  0...  1...  0...\n",
       "20...  1... -0...  0... -0...\n",
       "20... -0...  1... -0... -1...\n",
       "20... -1... -0...  0... -0...\n",
       "20... -0... -0...  1...  0..."
      ]
     },
     "execution_count": 110,
     "metadata": {},
     "output_type": "execute_result"
    }
   ],
   "source": [
    "dates = pd.date_range('today', periods=6)\n",
    "num_arr = np.random.randn(6,4)\n",
    "columns = ['A','B','C','D']\n",
    "df1 = pd.DataFrame(num_arr,index=dates, columns=columns)\n",
    "df1"
   ]
  },
  {
   "cell_type": "markdown",
   "metadata": {},
   "source": [
    "## 1.2- Verificacao de dados"
   ]
  },
  {
   "cell_type": "code",
   "execution_count": 111,
   "metadata": {},
   "outputs": [
    {
     "data": {
      "text/plain": [
       "numpy.float64"
      ]
     },
     "execution_count": 111,
     "metadata": {},
     "output_type": "execute_result"
    }
   ],
   "source": [
    "#df.tail()              # ultimas 5 iteraçoes\n",
    "#df1.tail(3)            # ultimas 3 iteraçoes\n",
    "#DF.head(10)            # primeiras 10 iteraçoes\n",
    "#DF.info()              # memoria, tipo do campo, entradas nao-nulas, etc\n",
    "#df.shape               # dimensoes do dataframe\n",
    "#DF.dtypes              # tipo de dados no dataframe\n",
    "type(df1.values[0][0]) # celula especifica do dataframe"
   ]
  },
  {
   "cell_type": "markdown",
   "metadata": {},
   "source": [
    "### 1.2.1.0-Exemplo de aplicaçao"
   ]
  },
  {
   "cell_type": "code",
   "execution_count": 112,
   "metadata": {},
   "outputs": [
    {
     "name": "stdout",
     "output_type": "stream",
     "text": [
      "Temos 35662 linhas e 11 colunas\n"
     ]
    }
   ],
   "source": [
    "print(\"Temos %0.f linhas e %0.f colunas\"%(DF.shape[0], DF.shape[1])) #poderia ser 0.2"
   ]
  },
  {
   "cell_type": "markdown",
   "metadata": {},
   "source": [
    "### 1.2.1.1- Operaçoes em Dataframes"
   ]
  },
  {
   "cell_type": "code",
   "execution_count": 113,
   "metadata": {},
   "outputs": [
    {
     "data": {
      "text/plain": [
       "array([[0, '2021-12-01T18:00', 1210881, ..., 2.7, 60.0, 1022.8],\n",
       "       [1, '2021-12-01T18:00', 1200533, ..., 5.5, 88.0, 1024.1],\n",
       "       [2, '2021-12-01T18:00', 11217430, ..., 2.7, 99.0, -99.0],\n",
       "       ...,\n",
       "       [4115, '2021-12-09T00:00', 1240566, ..., 2.2, 87.0, -99.0],\n",
       "       [4116, '2021-12-09T00:00', 1210874, ..., 2.7, 78.0, -99.0],\n",
       "       [4117, '2021-12-09T00:00', 1210878, ..., 0.9, 85.0, 1028.1]],\n",
       "      dtype=object)"
      ]
     },
     "execution_count": 113,
     "metadata": {},
     "output_type": "execute_result"
    }
   ],
   "source": [
    "# Colunas, indice, iteraçoes\n",
    "df.columns\n",
    "df.index\n",
    "df.values\n"
   ]
  },
  {
   "cell_type": "code",
   "execution_count": 114,
   "metadata": {},
   "outputs": [
    {
     "data": {
      "text/plain": [
       "array(['2021-12-01T18:00', '2021-12-01T12:00', '2021-11-30T23:00',\n",
       "       '2021-12-01T11:00', '2021-12-01T05:00', '2021-12-01T03:00',\n",
       "       '2021-12-01T07:00', '2021-12-01T17:00', '2021-12-01T20:00',\n",
       "       '2021-12-01T00:00', '2021-11-30T22:00', '2021-11-30T21:00',\n",
       "       '2021-12-01T01:00', '2021-12-01T15:00', '2021-12-01T06:00',\n",
       "       '2021-12-01T02:00', '2021-12-01T09:00', '2021-12-01T16:00',\n",
       "       '2021-12-01T10:00', '2021-12-01T08:00', '2021-12-01T14:00',\n",
       "       '2021-12-01T04:00', '2021-12-01T19:00', '2021-12-01T13:00',\n",
       "       '2021-12-02T08:00', '2021-12-02T04:00', '2021-12-02T07:00',\n",
       "       '2021-12-02T19:00', '2021-12-02T20:00', '2021-12-02T09:00',\n",
       "       '2021-12-02T01:00', '2021-12-02T10:00', '2021-12-02T15:00',\n",
       "       '2021-12-02T17:00', '2021-12-02T11:00', '2021-12-02T03:00',\n",
       "       '2021-12-02T18:00', '2021-12-02T12:00', '2021-12-02T13:00',\n",
       "       '2021-12-02T00:00', '2021-12-02T06:00', '2021-12-02T16:00',\n",
       "       '2021-12-01T22:00', '2021-12-02T21:00', '2021-12-02T14:00',\n",
       "       '2021-12-02T02:00', '2021-12-01T23:00', '2021-12-02T05:00',\n",
       "       '2021-12-03T17:00', '2021-12-03T09:00', '2021-12-02T22:00',\n",
       "       '2021-12-03T19:00', '2021-12-03T02:00', '2021-12-03T11:00',\n",
       "       '2021-12-03T00:00', '2021-12-03T20:00', '2021-12-03T05:00',\n",
       "       '2021-12-03T18:00', '2021-12-03T14:00', '2021-12-03T08:00',\n",
       "       '2021-12-03T03:00', '2021-12-03T10:00', '2021-12-03T16:00',\n",
       "       '2021-12-03T06:00', '2021-12-03T04:00', '2021-12-03T12:00',\n",
       "       '2021-12-03T15:00', '2021-12-03T07:00', '2021-12-03T01:00',\n",
       "       '2021-12-02T23:00', '2021-12-03T21:00', '2021-12-03T13:00',\n",
       "       '2021-12-03T23:00', '2021-12-04T06:00', '2021-12-04T12:00',\n",
       "       '2021-12-04T05:00', '2021-12-04T20:00', '2021-12-04T11:00',\n",
       "       '2021-12-04T17:00', '2021-12-04T21:00', '2021-12-04T09:00',\n",
       "       '2021-12-04T13:00', '2021-12-04T03:00', '2021-12-04T14:00',\n",
       "       '2021-12-04T19:00', '2021-12-03T22:00', '2021-12-04T15:00',\n",
       "       '2021-12-04T01:00', '2021-12-04T16:00', '2021-12-04T02:00',\n",
       "       '2021-12-04T04:00', '2021-12-04T18:00', '2021-12-04T00:00',\n",
       "       '2021-12-04T10:00', '2021-12-04T07:00', '2021-12-04T08:00',\n",
       "       '2021-12-04T22:00', '2021-12-05T16:00', '2021-12-05T09:00',\n",
       "       '2021-12-05T13:00', '2021-12-05T04:00', '2021-12-05T11:00',\n",
       "       '2021-12-05T06:00', '2021-12-05T03:00', '2021-12-05T12:00',\n",
       "       '2021-12-05T14:00', '2021-12-05T05:00', '2021-12-05T20:00',\n",
       "       '2021-12-05T00:00', '2021-12-05T17:00', '2021-12-05T02:00',\n",
       "       '2021-12-05T18:00', '2021-12-05T08:00', '2021-12-05T15:00',\n",
       "       '2021-12-05T10:00', '2021-12-05T01:00', '2021-12-05T07:00',\n",
       "       '2021-12-05T21:00', '2021-12-04T23:00', '2021-12-05T19:00',\n",
       "       '2021-12-06T14:00', '2021-12-06T04:00', '2021-12-06T02:00',\n",
       "       '2021-12-06T09:00', '2021-12-06T20:00', '2021-12-06T18:00',\n",
       "       '2021-12-06T06:00', '2021-12-06T12:00', '2021-12-06T01:00',\n",
       "       '2021-12-05T22:00', '2021-12-06T17:00', '2021-12-06T07:00',\n",
       "       '2021-12-06T03:00', '2021-12-06T08:00', '2021-12-06T13:00',\n",
       "       '2021-12-06T15:00', '2021-12-06T21:00', '2021-12-05T23:00',\n",
       "       '2021-12-06T11:00', '2021-12-06T05:00', '2021-12-06T16:00',\n",
       "       '2021-12-06T19:00', '2021-12-06T00:00', '2021-12-06T10:00',\n",
       "       '2021-12-07T08:00', '2021-12-07T16:00', '2021-12-07T02:00',\n",
       "       '2021-12-07T11:00', '2021-12-07T07:00', '2021-12-07T17:00',\n",
       "       '2021-12-06T22:00', '2021-12-07T13:00', '2021-12-07T18:00',\n",
       "       '2021-12-07T03:00', '2021-12-07T05:00', '2021-12-06T23:00',\n",
       "       '2021-12-07T21:00', '2021-12-07T01:00', '2021-12-07T15:00',\n",
       "       '2021-12-07T06:00', '2021-12-07T09:00', '2021-12-07T10:00',\n",
       "       '2021-12-07T00:00', '2021-12-07T20:00', '2021-12-07T04:00',\n",
       "       '2021-12-07T14:00', '2021-12-07T12:00', '2021-12-07T19:00',\n",
       "       '2021-12-08T11:00', '2021-12-08T05:00', '2021-12-08T12:00',\n",
       "       '2021-12-08T19:00', '2021-12-08T06:00', '2021-12-08T00:00',\n",
       "       '2021-12-08T18:00', '2021-12-08T04:00', '2021-12-08T14:00',\n",
       "       '2021-12-08T09:00', '2021-12-08T03:00', '2021-12-07T23:00',\n",
       "       '2021-12-08T08:00', '2021-12-08T21:00', '2021-12-08T02:00',\n",
       "       '2021-12-08T16:00', '2021-12-08T01:00', '2021-12-08T15:00',\n",
       "       '2021-12-08T13:00', '2021-12-07T22:00', '2021-12-08T17:00',\n",
       "       '2021-12-08T07:00', '2021-12-08T20:00', '2021-12-08T10:00',\n",
       "       '2021-12-09T15:00', '2021-12-09T02:00', '2021-12-09T08:00',\n",
       "       '2021-12-08T23:00', '2021-12-09T07:00', '2021-12-09T16:00',\n",
       "       '2021-12-09T10:00', '2021-12-09T01:00', '2021-12-09T18:00',\n",
       "       '2021-12-09T04:00', '2021-12-09T13:00', '2021-12-08T22:00',\n",
       "       '2021-12-09T21:00', '2021-12-09T06:00', '2021-12-09T11:00',\n",
       "       '2021-12-09T14:00', '2021-12-09T05:00', '2021-12-09T03:00',\n",
       "       '2021-12-09T09:00', '2021-12-09T19:00', '2021-12-09T12:00',\n",
       "       '2021-12-09T17:00', '2021-12-09T20:00', '2021-12-09T00:00'],\n",
       "      dtype=object)"
      ]
     },
     "execution_count": 114,
     "metadata": {},
     "output_type": "execute_result"
    }
   ],
   "source": [
    "# variavel categorica\n",
    "df['D/H Sample'].unique()\n"
   ]
  },
  {
   "cell_type": "code",
   "execution_count": 115,
   "metadata": {},
   "outputs": [
    {
     "data": {
      "text/plain": [
       "216"
      ]
     },
     "execution_count": 115,
     "metadata": {},
     "output_type": "execute_result"
    }
   ],
   "source": [
    "# quantos dias e horas têm no meu dataset?\n",
    "len(df['D/H Sample'].unique())"
   ]
  },
  {
   "cell_type": "code",
   "execution_count": 116,
   "metadata": {},
   "outputs": [
    {
     "data": {
      "text/plain": [
       "183"
      ]
     },
     "execution_count": 116,
     "metadata": {},
     "output_type": "execute_result"
    }
   ],
   "source": [
    "# quantos ID têm?\n",
    "len(DF.ID.unique())"
   ]
  },
  {
   "cell_type": "code",
   "execution_count": 117,
   "metadata": {},
   "outputs": [
    {
     "name": "stdout",
     "output_type": "stream",
     "text": [
      "index vs row: 2021-12-15 12:49:10.648600 A    0...\n",
      "B    0...\n",
      "C    0...\n",
      "D   -0...\n",
      "Name: 2021-12-15 12:49:10.648600, dtype: float64\n",
      "Index 2021-12-15 12:49:10.648600\n",
      "Row A    0...\n",
      "B    0...\n",
      "C    0...\n",
      "D   -0...\n",
      "Name: 2021-12-15 12:49:10.648600, dtype: float64\n",
      "index vs row: 2021-12-16 12:49:10.648600 A    2...\n",
      "B    0...\n",
      "C    1...\n",
      "D    0...\n",
      "Name: 2021-12-16 12:49:10.648600, dtype: float64\n",
      "Index 2021-12-16 12:49:10.648600\n",
      "Row A    2...\n",
      "B    0...\n",
      "C    1...\n",
      "D    0...\n",
      "Name: 2021-12-16 12:49:10.648600, dtype: float64\n",
      "index vs row: 2021-12-17 12:49:10.648600 A    1...\n",
      "B   -0...\n",
      "C    0...\n",
      "D   -0...\n",
      "Name: 2021-12-17 12:49:10.648600, dtype: float64\n",
      "Index 2021-12-17 12:49:10.648600\n",
      "Row A    1...\n",
      "B   -0...\n",
      "C    0...\n",
      "D   -0...\n",
      "Name: 2021-12-17 12:49:10.648600, dtype: float64\n",
      "index vs row: 2021-12-18 12:49:10.648600 A   -0...\n",
      "B    1...\n",
      "C   -0...\n",
      "D   -1...\n",
      "Name: 2021-12-18 12:49:10.648600, dtype: float64\n",
      "Index 2021-12-18 12:49:10.648600\n",
      "Row A   -0...\n",
      "B    1...\n",
      "C   -0...\n",
      "D   -1...\n",
      "Name: 2021-12-18 12:49:10.648600, dtype: float64\n",
      "index vs row: 2021-12-19 12:49:10.648600 A   -1...\n",
      "B   -0...\n",
      "C    0...\n",
      "D   -0...\n",
      "Name: 2021-12-19 12:49:10.648600, dtype: float64\n",
      "Index 2021-12-19 12:49:10.648600\n",
      "Row A   -1...\n",
      "B   -0...\n",
      "C    0...\n",
      "D   -0...\n",
      "Name: 2021-12-19 12:49:10.648600, dtype: float64\n",
      "index vs row: 2021-12-20 12:49:10.648600 A   -0...\n",
      "B   -0...\n",
      "C    1...\n",
      "D    0...\n",
      "Name: 2021-12-20 12:49:10.648600, dtype: float64\n",
      "Index 2021-12-20 12:49:10.648600\n",
      "Row A   -0...\n",
      "B   -0...\n",
      "C    1...\n",
      "D    0...\n",
      "Name: 2021-12-20 12:49:10.648600, dtype: float64\n"
     ]
    }
   ],
   "source": [
    "for index,row in df1.iterrows():\n",
    "    print('index vs row:', index, row)\n",
    "    print('Index', index)\n",
    "    print('Row',row)"
   ]
  },
  {
   "cell_type": "markdown",
   "metadata": {},
   "source": [
    "## 1.3-operaçoes no Dataframe"
   ]
  },
  {
   "cell_type": "markdown",
   "metadata": {},
   "source": [
    "### 1.3.1- Dataframe transposto "
   ]
  },
  {
   "cell_type": "code",
   "execution_count": 118,
   "metadata": {},
   "outputs": [
    {
     "data": {
      "text/html": [
       "<div>\n",
       "<style scoped>\n",
       "    .dataframe tbody tr th:only-of-type {\n",
       "        vertical-align: middle;\n",
       "    }\n",
       "\n",
       "    .dataframe tbody tr th {\n",
       "        vertical-align: top;\n",
       "    }\n",
       "\n",
       "    .dataframe thead th {\n",
       "        text-align: right;\n",
       "    }\n",
       "</style>\n",
       "<table border=\"1\" class=\"dataframe\">\n",
       "  <thead>\n",
       "    <tr style=\"text-align: right;\">\n",
       "      <th></th>\n",
       "      <th>2021-12-15 12:49:10.648600</th>\n",
       "      <th>2021-12-16 12:49:10.648600</th>\n",
       "      <th>...</th>\n",
       "      <th>2021-12-19 12:49:10.648600</th>\n",
       "      <th>2021-12-20 12:49:10.648600</th>\n",
       "    </tr>\n",
       "  </thead>\n",
       "  <tbody>\n",
       "    <tr>\n",
       "      <th>A</th>\n",
       "      <td>0...</td>\n",
       "      <td>2...</td>\n",
       "      <td>...</td>\n",
       "      <td>-1...</td>\n",
       "      <td>-0...</td>\n",
       "    </tr>\n",
       "    <tr>\n",
       "      <th>B</th>\n",
       "      <td>0...</td>\n",
       "      <td>0...</td>\n",
       "      <td>...</td>\n",
       "      <td>-0...</td>\n",
       "      <td>-0...</td>\n",
       "    </tr>\n",
       "    <tr>\n",
       "      <th>C</th>\n",
       "      <td>0...</td>\n",
       "      <td>1...</td>\n",
       "      <td>...</td>\n",
       "      <td>0...</td>\n",
       "      <td>1...</td>\n",
       "    </tr>\n",
       "    <tr>\n",
       "      <th>D</th>\n",
       "      <td>-0...</td>\n",
       "      <td>0...</td>\n",
       "      <td>...</td>\n",
       "      <td>-0...</td>\n",
       "      <td>0...</td>\n",
       "    </tr>\n",
       "  </tbody>\n",
       "</table>\n",
       "<p>4 rows × 6 columns</p>\n",
       "</div>"
      ],
      "text/plain": [
       "   2021-12-15 12:49:10.648600  2021-12-16 12:49:10.648600  ...  \\\n",
       "A  0...                        2...                        ...   \n",
       "B  0...                        0...                        ...   \n",
       "C  0...                        1...                        ...   \n",
       "D -0...                        0...                        ...   \n",
       "\n",
       "   2021-12-19 12:49:10.648600  2021-12-20 12:49:10.648600  \n",
       "A -1...                       -0...                        \n",
       "B -0...                       -0...                        \n",
       "C  0...                        1...                        \n",
       "D -0...                        0...                        \n",
       "\n",
       "[4 rows x 6 columns]"
      ]
     },
     "execution_count": 118,
     "metadata": {},
     "output_type": "execute_result"
    }
   ],
   "source": [
    "df2=df1.T\n",
    "df2"
   ]
  },
  {
   "cell_type": "markdown",
   "metadata": {},
   "source": [
    "### 1.3.2- Operaçoes em colunas / Column Operations"
   ]
  },
  {
   "cell_type": "markdown",
   "metadata": {},
   "source": [
    "#### 1.3.2.1- Adicionar coluna /Add Column"
   ]
  },
  {
   "cell_type": "code",
   "execution_count": 119,
   "metadata": {},
   "outputs": [
    {
     "name": "stdout",
     "output_type": "stream",
     "text": [
      "DF\n",
      " Index(['Unnamed: 0', 'D/H Sample', 'ID', 'intensidadeVentoKM', 'temperatura',\n",
      "       'radiacao', 'idDireccVento', 'precAcumulada', 'intensidadeVento',\n",
      "       'humidade', 'pressao', 'Total'],\n",
      "      dtype='object')\n"
     ]
    }
   ],
   "source": [
    "DF['Total']=DF['temperatura']+DF['radiacao']\n",
    "print('DF\\n',DF.columns)\n"
   ]
  },
  {
   "cell_type": "markdown",
   "metadata": {},
   "source": [
    "#### 1.3.2.2- Retirar coluna /Delete Column"
   ]
  },
  {
   "cell_type": "code",
   "execution_count": 120,
   "metadata": {},
   "outputs": [
    {
     "name": "stdout",
     "output_type": "stream",
     "text": [
      "DF\n",
      " Index(['Unnamed: 0', 'D/H Sample', 'ID', 'intensidadeVentoKM', 'temperatura',\n",
      "       'radiacao', 'idDireccVento', 'precAcumulada', 'intensidadeVento',\n",
      "       'humidade', 'pressao'],\n",
      "      dtype='object')\n"
     ]
    }
   ],
   "source": [
    "DF = DF.drop(columns=['Total'])  #para retirar a coluna criada\n",
    "print('DF\\n',DF.columns)"
   ]
  },
  {
   "cell_type": "markdown",
   "metadata": {},
   "source": [
    "#### 1.3.2.4- Alterar a posiçao da coluna"
   ]
  },
  {
   "cell_type": "code",
   "execution_count": 121,
   "metadata": {},
   "outputs": [
    {
     "name": "stdout",
     "output_type": "stream",
     "text": [
      "Index(['Unnamed: 0', 'pressao', 'D/H Sample', 'ID', 'intensidadeVentoKM',\n",
      "       'temperatura', 'radiacao', 'idDireccVento', 'precAcumulada',\n",
      "       'intensidadeVento', 'humidade'],\n",
      "      dtype='object')\n"
     ]
    }
   ],
   "source": [
    "# alterar a locazilacao da coluna -2\n",
    "cols=list(DF.columns.values)\n",
    "DF = DF[[cols[0]] +[cols[-1]]+cols[1:10]]\n",
    "print(DF.columns)"
   ]
  },
  {
   "cell_type": "markdown",
   "metadata": {},
   "source": [
    "#### 1.3.2.9- Operaçoes gerais / Generic operation"
   ]
  },
  {
   "cell_type": "code",
   "execution_count": 122,
   "metadata": {},
   "outputs": [
    {
     "name": "stdout",
     "output_type": "stream",
     "text": [
      "colunas: ['Unnamed: 0' 'pressao' 'D/H Sample' 'ID' 'intensidadeVentoKM'\n",
      " 'temperatura' 'radiacao' 'idDireccVento' 'precAcumulada'\n",
      " 'intensidadeVento' 'humidade']\n",
      "tipo da variavel <class 'numpy.ndarray'>\n",
      "Guardar como lista <class 'list'>\n"
     ]
    }
   ],
   "source": [
    "cols = DF.columns.values\n",
    "print('colunas:',cols)\n",
    "print('tipo da variavel',type(cols))\n",
    "list_cols = list(DF.columns.values)\n",
    "print('Guardar como lista',type(list_cols))"
   ]
  },
  {
   "cell_type": "markdown",
   "metadata": {},
   "source": [
    "## 1.4- Parametros de exibição"
   ]
  },
  {
   "cell_type": "markdown",
   "metadata": {},
   "source": [
    "### 1.4.0 -verificar o que existe"
   ]
  },
  {
   "cell_type": "code",
   "execution_count": 123,
   "metadata": {},
   "outputs": [
    {
     "name": "stdout",
     "output_type": "stream",
     "text": [
      "<class 'pandas.core.frame.DataFrame'>\n",
      "RangeIndex: 35662 entries, 0 to 35661\n",
      "Data columns (total 11 columns):\n",
      " #   Column              Non-Null Count  Dtype  \n",
      "---  ------              --------------  -----  \n",
      " 0   Unnamed: 0          35662 non-null  int64  \n",
      " 1   D/H Sample          35662 non-null  object \n",
      " 2   ID                  35662 non-null  int64  \n",
      " 3   intensidadeVentoKM  35662 non-null  float64\n",
      " 4   temperatura         35662 non-null  float64\n",
      " 5   radiacao            35662 non-null  float64\n",
      " 6   idDireccVento       35662 non-null  int64  \n",
      " 7   precAcumulada       35662 non-null  float64\n",
      " 8   intensidadeVento    35662 non-null  float64\n",
      " 9   humidade            35662 non-null  float64\n",
      " 10  pressao             35662 non-null  float64\n",
      "dtypes: float64(7), int64(3), object(1)\n",
      "memory usage: 3.0+ MB\n"
     ]
    },
    {
     "data": {
      "text/plain": [
       "Index(['Unnamed: 0', 'D/H Sample', 'ID', 'intensidadeVentoKM', 'temperatura',\n",
       "       'radiacao', 'idDireccVento', 'precAcumulada', 'intensidadeVento',\n",
       "       'humidade', 'pressao'],\n",
       "      dtype='object')"
      ]
     },
     "execution_count": 123,
     "metadata": {},
     "output_type": "execute_result"
    }
   ],
   "source": [
    "df.info()  #informaçao\n",
    "df.columns #colunas"
   ]
  },
  {
   "cell_type": "markdown",
   "metadata": {},
   "source": [
    "### 1.4.1- Alterar o indice do Dataframe"
   ]
  },
  {
   "cell_type": "code",
   "execution_count": 124,
   "metadata": {},
   "outputs": [
    {
     "data": {
      "text/html": [
       "<div>\n",
       "<style scoped>\n",
       "    .dataframe tbody tr th:only-of-type {\n",
       "        vertical-align: middle;\n",
       "    }\n",
       "\n",
       "    .dataframe tbody tr th {\n",
       "        vertical-align: top;\n",
       "    }\n",
       "\n",
       "    .dataframe thead th {\n",
       "        text-align: right;\n",
       "    }\n",
       "</style>\n",
       "<table border=\"1\" class=\"dataframe\">\n",
       "  <thead>\n",
       "    <tr style=\"text-align: right;\">\n",
       "      <th></th>\n",
       "      <th></th>\n",
       "      <th></th>\n",
       "      <th>Unnamed: 0</th>\n",
       "      <th>D/H Sample</th>\n",
       "      <th>...</th>\n",
       "      <th>intensidadeVento</th>\n",
       "      <th>humidade</th>\n",
       "    </tr>\n",
       "    <tr>\n",
       "      <th>temperatura</th>\n",
       "      <th>radiacao</th>\n",
       "      <th>pressao</th>\n",
       "      <th></th>\n",
       "      <th></th>\n",
       "      <th></th>\n",
       "      <th></th>\n",
       "      <th></th>\n",
       "    </tr>\n",
       "  </thead>\n",
       "  <tbody>\n",
       "    <tr>\n",
       "      <th>16.5</th>\n",
       "      <th>-99.0</th>\n",
       "      <th>1...</th>\n",
       "      <td>0</td>\n",
       "      <td>2...</td>\n",
       "      <td>...</td>\n",
       "      <td>2.7</td>\n",
       "      <td>60.0</td>\n",
       "    </tr>\n",
       "    <tr>\n",
       "      <th>14.8</th>\n",
       "      <th>-99.0</th>\n",
       "      <th>1...</th>\n",
       "      <td>1</td>\n",
       "      <td>2...</td>\n",
       "      <td>...</td>\n",
       "      <td>5.5</td>\n",
       "      <td>88.0</td>\n",
       "    </tr>\n",
       "    <tr>\n",
       "      <th>15.3</th>\n",
       "      <th>1...</th>\n",
       "      <th>-99.0</th>\n",
       "      <td>2</td>\n",
       "      <td>2...</td>\n",
       "      <td>...</td>\n",
       "      <td>2.7</td>\n",
       "      <td>99.0</td>\n",
       "    </tr>\n",
       "    <tr>\n",
       "      <th>8.6</th>\n",
       "      <th>4.0</th>\n",
       "      <th>1...</th>\n",
       "      <td>3</td>\n",
       "      <td>2...</td>\n",
       "      <td>...</td>\n",
       "      <td>1.5</td>\n",
       "      <td>84.0</td>\n",
       "    </tr>\n",
       "    <tr>\n",
       "      <th>7.3</th>\n",
       "      <th>-99.0</th>\n",
       "      <th>1...</th>\n",
       "      <td>4</td>\n",
       "      <td>2...</td>\n",
       "      <td>...</td>\n",
       "      <td>1.1</td>\n",
       "      <td>96.0</td>\n",
       "    </tr>\n",
       "    <tr>\n",
       "      <th>...</th>\n",
       "      <th>...</th>\n",
       "      <th>...</th>\n",
       "      <td>...</td>\n",
       "      <td>...</td>\n",
       "      <td>...</td>\n",
       "      <td>...</td>\n",
       "      <td>...</td>\n",
       "    </tr>\n",
       "    <tr>\n",
       "      <th>5.4</th>\n",
       "      <th>-99.0</th>\n",
       "      <th>-99.0</th>\n",
       "      <td>4113</td>\n",
       "      <td>2...</td>\n",
       "      <td>...</td>\n",
       "      <td>1.8</td>\n",
       "      <td>94.0</td>\n",
       "    </tr>\n",
       "    <tr>\n",
       "      <th>8.7</th>\n",
       "      <th>0.0</th>\n",
       "      <th>-99.0</th>\n",
       "      <td>4114</td>\n",
       "      <td>2...</td>\n",
       "      <td>...</td>\n",
       "      <td>1.8</td>\n",
       "      <td>-99.0</td>\n",
       "    </tr>\n",
       "    <tr>\n",
       "      <th>7.5</th>\n",
       "      <th>-99.0</th>\n",
       "      <th>-99.0</th>\n",
       "      <td>4115</td>\n",
       "      <td>2...</td>\n",
       "      <td>...</td>\n",
       "      <td>2.2</td>\n",
       "      <td>87.0</td>\n",
       "    </tr>\n",
       "    <tr>\n",
       "      <th>11.2</th>\n",
       "      <th>-99.0</th>\n",
       "      <th>-99.0</th>\n",
       "      <td>4116</td>\n",
       "      <td>2...</td>\n",
       "      <td>...</td>\n",
       "      <td>2.7</td>\n",
       "      <td>78.0</td>\n",
       "    </tr>\n",
       "    <tr>\n",
       "      <th>11.4</th>\n",
       "      <th>0.0</th>\n",
       "      <th>1...</th>\n",
       "      <td>4117</td>\n",
       "      <td>2...</td>\n",
       "      <td>...</td>\n",
       "      <td>0.9</td>\n",
       "      <td>85.0</td>\n",
       "    </tr>\n",
       "  </tbody>\n",
       "</table>\n",
       "<p>35662 rows × 8 columns</p>\n",
       "</div>"
      ],
      "text/plain": [
       "                   Unnamed: 0 D/H Sample  ...  intensidadeVento  humidade\n",
       "te... ra... pr...                         ...                            \n",
       "16.5  -99.0  1...     0        2...       ...   2.7              60.0    \n",
       "14.8  -99.0  1...     1        2...       ...   5.5              88.0    \n",
       "15.3   1... -99.0     2        2...       ...   2.7              99.0    \n",
       "8.6    4.0   1...     3        2...       ...   1.5              84.0    \n",
       "7.3   -99.0  1...     4        2...       ...   1.1              96.0    \n",
       "...                 ...         ...       ...   ...               ...    \n",
       "5.4   -99.0 -99.0  4113        2...       ...   1.8              94.0    \n",
       "8.7    0.0  -99.0  4114        2...       ...   1.8             -99.0    \n",
       "7.5   -99.0 -99.0  4115        2...       ...   2.2              87.0    \n",
       "11.2  -99.0 -99.0  4116        2...       ...   2.7              78.0    \n",
       "11.4   0.0   1...  4117        2...       ...   0.9              85.0    \n",
       "\n",
       "[35662 rows x 8 columns]"
      ]
     },
     "execution_count": 124,
     "metadata": {},
     "output_type": "execute_result"
    }
   ],
   "source": [
    "df.set_index('temperatura')\n",
    "df.set_index(['temperatura','radiacao','pressao'])  "
   ]
  },
  {
   "cell_type": "markdown",
   "metadata": {},
   "source": [
    "### 1.4.2- Definir os parametros de exibição"
   ]
  },
  {
   "cell_type": "code",
   "execution_count": 125,
   "metadata": {},
   "outputs": [
    {
     "data": {
      "text/plain": [
       "5"
      ]
     },
     "execution_count": 125,
     "metadata": {},
     "output_type": "execute_result"
    }
   ],
   "source": [
    "pd.set_option(\"max_colwidth\", 5)\n",
    "pd.set_option(\"max_rows\", 10)\n",
    "pd.set_option(\"max_columns\", 4)\n",
    "\n",
    "pd.get_option('max_colwidth')  # exibir \n"
   ]
  },
  {
   "cell_type": "code",
   "execution_count": 126,
   "metadata": {},
   "outputs": [
    {
     "data": {
      "text/html": [
       "<div>\n",
       "<style scoped>\n",
       "    .dataframe tbody tr th:only-of-type {\n",
       "        vertical-align: middle;\n",
       "    }\n",
       "\n",
       "    .dataframe tbody tr th {\n",
       "        vertical-align: top;\n",
       "    }\n",
       "\n",
       "    .dataframe thead th {\n",
       "        text-align: right;\n",
       "    }\n",
       "</style>\n",
       "<table border=\"1\" class=\"dataframe\">\n",
       "  <thead>\n",
       "    <tr style=\"text-align: right;\">\n",
       "      <th></th>\n",
       "      <th>Unnamed: 0</th>\n",
       "      <th>D/H Sample</th>\n",
       "      <th>...</th>\n",
       "      <th>humidade</th>\n",
       "      <th>pressao</th>\n",
       "    </tr>\n",
       "  </thead>\n",
       "  <tbody>\n",
       "    <tr>\n",
       "      <th>0</th>\n",
       "      <td>0</td>\n",
       "      <td>2...</td>\n",
       "      <td>...</td>\n",
       "      <td>60.0</td>\n",
       "      <td>1...</td>\n",
       "    </tr>\n",
       "    <tr>\n",
       "      <th>1</th>\n",
       "      <td>1</td>\n",
       "      <td>2...</td>\n",
       "      <td>...</td>\n",
       "      <td>88.0</td>\n",
       "      <td>1...</td>\n",
       "    </tr>\n",
       "    <tr>\n",
       "      <th>2</th>\n",
       "      <td>2</td>\n",
       "      <td>2...</td>\n",
       "      <td>...</td>\n",
       "      <td>99.0</td>\n",
       "      <td>-99.0</td>\n",
       "    </tr>\n",
       "    <tr>\n",
       "      <th>3</th>\n",
       "      <td>3</td>\n",
       "      <td>2...</td>\n",
       "      <td>...</td>\n",
       "      <td>84.0</td>\n",
       "      <td>1...</td>\n",
       "    </tr>\n",
       "    <tr>\n",
       "      <th>4</th>\n",
       "      <td>4</td>\n",
       "      <td>2...</td>\n",
       "      <td>...</td>\n",
       "      <td>96.0</td>\n",
       "      <td>1...</td>\n",
       "    </tr>\n",
       "    <tr>\n",
       "      <th>...</th>\n",
       "      <td>...</td>\n",
       "      <td>...</td>\n",
       "      <td>...</td>\n",
       "      <td>...</td>\n",
       "      <td>...</td>\n",
       "    </tr>\n",
       "    <tr>\n",
       "      <th>3...</th>\n",
       "      <td>4113</td>\n",
       "      <td>2...</td>\n",
       "      <td>...</td>\n",
       "      <td>94.0</td>\n",
       "      <td>-99.0</td>\n",
       "    </tr>\n",
       "    <tr>\n",
       "      <th>3...</th>\n",
       "      <td>4114</td>\n",
       "      <td>2...</td>\n",
       "      <td>...</td>\n",
       "      <td>-99.0</td>\n",
       "      <td>-99.0</td>\n",
       "    </tr>\n",
       "    <tr>\n",
       "      <th>3...</th>\n",
       "      <td>4115</td>\n",
       "      <td>2...</td>\n",
       "      <td>...</td>\n",
       "      <td>87.0</td>\n",
       "      <td>-99.0</td>\n",
       "    </tr>\n",
       "    <tr>\n",
       "      <th>3...</th>\n",
       "      <td>4116</td>\n",
       "      <td>2...</td>\n",
       "      <td>...</td>\n",
       "      <td>78.0</td>\n",
       "      <td>-99.0</td>\n",
       "    </tr>\n",
       "    <tr>\n",
       "      <th>3...</th>\n",
       "      <td>4117</td>\n",
       "      <td>2...</td>\n",
       "      <td>...</td>\n",
       "      <td>85.0</td>\n",
       "      <td>1...</td>\n",
       "    </tr>\n",
       "  </tbody>\n",
       "</table>\n",
       "<p>35662 rows × 11 columns</p>\n",
       "</div>"
      ],
      "text/plain": [
       "      Unnamed: 0 D/H Sample  ...  humidade  pressao\n",
       "0        0        2...       ...  60.0      1...   \n",
       "1        1        2...       ...  88.0      1...   \n",
       "2        2        2...       ...  99.0     -99.0   \n",
       "3        3        2...       ...  84.0      1...   \n",
       "4        4        2...       ...  96.0      1...   \n",
       "...    ...         ...       ...   ...       ...   \n",
       "3...  4113        2...       ...  94.0     -99.0   \n",
       "3...  4114        2...       ... -99.0     -99.0   \n",
       "3...  4115        2...       ...  87.0     -99.0   \n",
       "3...  4116        2...       ...  78.0     -99.0   \n",
       "3...  4117        2...       ...  85.0      1...   \n",
       "\n",
       "[35662 rows x 11 columns]"
      ]
     },
     "metadata": {},
     "output_type": "display_data"
    }
   ],
   "source": [
    "display(df)"
   ]
  },
  {
   "cell_type": "markdown",
   "metadata": {},
   "source": [
    "## 1.5- Formatacao condicional de celulas do dataframe"
   ]
  },
  {
   "cell_type": "markdown",
   "metadata": {},
   "source": [
    "### 1.5.1- Formataçao da letra"
   ]
  },
  {
   "cell_type": "code",
   "execution_count": 127,
   "metadata": {},
   "outputs": [
    {
     "data": {
      "text/html": [
       "<style  type=\"text/css\" >\n",
       "#T_7be15_row0_col0,#T_7be15_row1_col0,#T_7be15_row2_col0{\n",
       "            color:  black;\n",
       "        }#T_7be15_row3_col0,#T_7be15_row4_col0{\n",
       "            color:  red;\n",
       "        }</style><table id=\"T_7be15_\" ><thead>    <tr>        <th class=\"blank level0\" ></th>        <th class=\"col_heading level0 col0\" >temperatura</th>    </tr></thead><tbody>\n",
       "                <tr>\n",
       "                        <th id=\"T_7be15_level0_row0\" class=\"row_heading level0 row0\" >0</th>\n",
       "                        <td id=\"T_7be15_row0_col0\" class=\"data row0 col0\" >16.500000</td>\n",
       "            </tr>\n",
       "            <tr>\n",
       "                        <th id=\"T_7be15_level0_row1\" class=\"row_heading level0 row1\" >1</th>\n",
       "                        <td id=\"T_7be15_row1_col0\" class=\"data row1 col0\" >14.800000</td>\n",
       "            </tr>\n",
       "            <tr>\n",
       "                        <th id=\"T_7be15_level0_row2\" class=\"row_heading level0 row2\" >2</th>\n",
       "                        <td id=\"T_7be15_row2_col0\" class=\"data row2 col0\" >15.300000</td>\n",
       "            </tr>\n",
       "            <tr>\n",
       "                        <th id=\"T_7be15_level0_row3\" class=\"row_heading level0 row3\" >3</th>\n",
       "                        <td id=\"T_7be15_row3_col0\" class=\"data row3 col0\" >8.600000</td>\n",
       "            </tr>\n",
       "            <tr>\n",
       "                        <th id=\"T_7be15_level0_row4\" class=\"row_heading level0 row4\" >4</th>\n",
       "                        <td id=\"T_7be15_row4_col0\" class=\"data row4 col0\" >7.300000</td>\n",
       "            </tr>\n",
       "    </tbody></table>"
      ],
      "text/plain": [
       "<pandas.io.formats.style.Styler at 0x113532b0>"
      ]
     },
     "execution_count": 127,
     "metadata": {},
     "output_type": "execute_result"
    }
   ],
   "source": [
    "\n",
    "def color_negative_red(value):\n",
    "    color = 'red' if value < 13.5 else 'black'\n",
    "    return 'color: %s'%color # seria como se eu tivesse fazendo return 'color: red' ou return 'color: black'\n",
    "\n",
    "df[['temperatura']].head().style.applymap(color_negative_red)   #a cada elemento"
   ]
  },
  {
   "cell_type": "code",
   "execution_count": 128,
   "metadata": {},
   "outputs": [
    {
     "data": {
      "text/html": [
       "<style  type=\"text/css\" >\n",
       "#T_37706_row0_col3,#T_37706_row2_col3,#T_37706_row3_col3,#T_37706_row3_col4,#T_37706_row4_col3,#T_37706_row4_col4{\n",
       "            color:  red;\n",
       "        }#T_37706_row0_col4,#T_37706_row1_col3,#T_37706_row1_col4,#T_37706_row2_col4{\n",
       "            color:  black;\n",
       "        }</style><table id=\"T_37706_\" ><thead>    <tr>        <th class=\"blank level0\" ></th>        <th class=\"col_heading level0 col0\" >Unnamed: 0</th>        <th class=\"col_heading level0 col1\" >D/H Sample</th>        <th class=\"col_heading level0 col2\" >ID</th>        <th class=\"col_heading level0 col3\" >intensidadeVentoKM</th>        <th class=\"col_heading level0 col4\" >temperatura</th>        <th class=\"col_heading level0 col5\" >radiacao</th>        <th class=\"col_heading level0 col6\" >idDireccVento</th>        <th class=\"col_heading level0 col7\" >precAcumulada</th>        <th class=\"col_heading level0 col8\" >intensidadeVento</th>        <th class=\"col_heading level0 col9\" >humidade</th>        <th class=\"col_heading level0 col10\" >pressao</th>    </tr></thead><tbody>\n",
       "                <tr>\n",
       "                        <th id=\"T_37706_level0_row0\" class=\"row_heading level0 row0\" >0</th>\n",
       "                        <td id=\"T_37706_row0_col0\" class=\"data row0 col0\" >0</td>\n",
       "                        <td id=\"T_37706_row0_col1\" class=\"data row0 col1\" >2021-12-01T18:00</td>\n",
       "                        <td id=\"T_37706_row0_col2\" class=\"data row0 col2\" >1210881</td>\n",
       "                        <td id=\"T_37706_row0_col3\" class=\"data row0 col3\" >9.700000</td>\n",
       "                        <td id=\"T_37706_row0_col4\" class=\"data row0 col4\" >16.500000</td>\n",
       "                        <td id=\"T_37706_row0_col5\" class=\"data row0 col5\" >-99.000000</td>\n",
       "                        <td id=\"T_37706_row0_col6\" class=\"data row0 col6\" >7</td>\n",
       "                        <td id=\"T_37706_row0_col7\" class=\"data row0 col7\" >0.000000</td>\n",
       "                        <td id=\"T_37706_row0_col8\" class=\"data row0 col8\" >2.700000</td>\n",
       "                        <td id=\"T_37706_row0_col9\" class=\"data row0 col9\" >60.000000</td>\n",
       "                        <td id=\"T_37706_row0_col10\" class=\"data row0 col10\" >1022.800000</td>\n",
       "            </tr>\n",
       "            <tr>\n",
       "                        <th id=\"T_37706_level0_row1\" class=\"row_heading level0 row1\" >1</th>\n",
       "                        <td id=\"T_37706_row1_col0\" class=\"data row1 col0\" >1</td>\n",
       "                        <td id=\"T_37706_row1_col1\" class=\"data row1 col1\" >2021-12-01T18:00</td>\n",
       "                        <td id=\"T_37706_row1_col2\" class=\"data row1 col2\" >1200533</td>\n",
       "                        <td id=\"T_37706_row1_col3\" class=\"data row1 col3\" >19.800000</td>\n",
       "                        <td id=\"T_37706_row1_col4\" class=\"data row1 col4\" >14.800000</td>\n",
       "                        <td id=\"T_37706_row1_col5\" class=\"data row1 col5\" >-99.000000</td>\n",
       "                        <td id=\"T_37706_row1_col6\" class=\"data row1 col6\" >8</td>\n",
       "                        <td id=\"T_37706_row1_col7\" class=\"data row1 col7\" >-99.000000</td>\n",
       "                        <td id=\"T_37706_row1_col8\" class=\"data row1 col8\" >5.500000</td>\n",
       "                        <td id=\"T_37706_row1_col9\" class=\"data row1 col9\" >88.000000</td>\n",
       "                        <td id=\"T_37706_row1_col10\" class=\"data row1 col10\" >1024.100000</td>\n",
       "            </tr>\n",
       "            <tr>\n",
       "                        <th id=\"T_37706_level0_row2\" class=\"row_heading level0 row2\" >2</th>\n",
       "                        <td id=\"T_37706_row2_col0\" class=\"data row2 col0\" >2</td>\n",
       "                        <td id=\"T_37706_row2_col1\" class=\"data row2 col1\" >2021-12-01T18:00</td>\n",
       "                        <td id=\"T_37706_row2_col2\" class=\"data row2 col2\" >11217430</td>\n",
       "                        <td id=\"T_37706_row2_col3\" class=\"data row2 col3\" >9.700000</td>\n",
       "                        <td id=\"T_37706_row2_col4\" class=\"data row2 col4\" >15.300000</td>\n",
       "                        <td id=\"T_37706_row2_col5\" class=\"data row2 col5\" >102.100000</td>\n",
       "                        <td id=\"T_37706_row2_col6\" class=\"data row2 col6\" >9</td>\n",
       "                        <td id=\"T_37706_row2_col7\" class=\"data row2 col7\" >0.000000</td>\n",
       "                        <td id=\"T_37706_row2_col8\" class=\"data row2 col8\" >2.700000</td>\n",
       "                        <td id=\"T_37706_row2_col9\" class=\"data row2 col9\" >99.000000</td>\n",
       "                        <td id=\"T_37706_row2_col10\" class=\"data row2 col10\" >-99.000000</td>\n",
       "            </tr>\n",
       "            <tr>\n",
       "                        <th id=\"T_37706_level0_row3\" class=\"row_heading level0 row3\" >3</th>\n",
       "                        <td id=\"T_37706_row3_col0\" class=\"data row3 col0\" >3</td>\n",
       "                        <td id=\"T_37706_row3_col1\" class=\"data row3 col1\" >2021-12-01T18:00</td>\n",
       "                        <td id=\"T_37706_row3_col2\" class=\"data row3 col2\" >6212121</td>\n",
       "                        <td id=\"T_37706_row3_col3\" class=\"data row3 col3\" >5.400000</td>\n",
       "                        <td id=\"T_37706_row3_col4\" class=\"data row3 col4\" >8.600000</td>\n",
       "                        <td id=\"T_37706_row3_col5\" class=\"data row3 col5\" >4.000000</td>\n",
       "                        <td id=\"T_37706_row3_col6\" class=\"data row3 col6\" >6</td>\n",
       "                        <td id=\"T_37706_row3_col7\" class=\"data row3 col7\" >-99.000000</td>\n",
       "                        <td id=\"T_37706_row3_col8\" class=\"data row3 col8\" >1.500000</td>\n",
       "                        <td id=\"T_37706_row3_col9\" class=\"data row3 col9\" >84.000000</td>\n",
       "                        <td id=\"T_37706_row3_col10\" class=\"data row3 col10\" >1021.200000</td>\n",
       "            </tr>\n",
       "            <tr>\n",
       "                        <th id=\"T_37706_level0_row4\" class=\"row_heading level0 row4\" >4</th>\n",
       "                        <td id=\"T_37706_row4_col0\" class=\"data row4 col0\" >4</td>\n",
       "                        <td id=\"T_37706_row4_col1\" class=\"data row4 col1\" >2021-12-01T18:00</td>\n",
       "                        <td id=\"T_37706_row4_col2\" class=\"data row4 col2\" >1200560</td>\n",
       "                        <td id=\"T_37706_row4_col3\" class=\"data row4 col3\" >4.000000</td>\n",
       "                        <td id=\"T_37706_row4_col4\" class=\"data row4 col4\" >7.300000</td>\n",
       "                        <td id=\"T_37706_row4_col5\" class=\"data row4 col5\" >-99.000000</td>\n",
       "                        <td id=\"T_37706_row4_col6\" class=\"data row4 col6\" >8</td>\n",
       "                        <td id=\"T_37706_row4_col7\" class=\"data row4 col7\" >0.000000</td>\n",
       "                        <td id=\"T_37706_row4_col8\" class=\"data row4 col8\" >1.100000</td>\n",
       "                        <td id=\"T_37706_row4_col9\" class=\"data row4 col9\" >96.000000</td>\n",
       "                        <td id=\"T_37706_row4_col10\" class=\"data row4 col10\" >1022.500000</td>\n",
       "            </tr>\n",
       "    </tbody></table>"
      ],
      "text/plain": [
       "<pandas.io.formats.style.Styler at 0x113530a0>"
      ]
     },
     "execution_count": 128,
     "metadata": {},
     "output_type": "execute_result"
    }
   ],
   "source": [
    "exemplo_df = df.head(5)\n",
    "exemplo_df.style.applymap(color_negative_red, subset=['temperatura', 'intensidadeVentoKM'])"
   ]
  },
  {
   "cell_type": "markdown",
   "metadata": {},
   "source": [
    "### 1.5.2- Formataçao da celula"
   ]
  },
  {
   "cell_type": "code",
   "execution_count": 129,
   "metadata": {},
   "outputs": [
    {
     "data": {
      "text/html": [
       "<style  type=\"text/css\" >\n",
       "#T_3051a_row1_col3,#T_3051a_row7_col4,#T_3051a_row9_col5{\n",
       "            background-color:  yellow;\n",
       "        }</style><table id=\"T_3051a_\" ><thead>    <tr>        <th class=\"blank level0\" ></th>        <th class=\"col_heading level0 col0\" >Unnamed: 0</th>        <th class=\"col_heading level0 col1\" >D/H Sample</th>        <th class=\"col_heading level0 col2\" >ID</th>        <th class=\"col_heading level0 col3\" >intensidadeVentoKM</th>        <th class=\"col_heading level0 col4\" >temperatura</th>        <th class=\"col_heading level0 col5\" >radiacao</th>        <th class=\"col_heading level0 col6\" >idDireccVento</th>        <th class=\"col_heading level0 col7\" >precAcumulada</th>        <th class=\"col_heading level0 col8\" >intensidadeVento</th>        <th class=\"col_heading level0 col9\" >humidade</th>        <th class=\"col_heading level0 col10\" >pressao</th>    </tr></thead><tbody>\n",
       "                <tr>\n",
       "                        <th id=\"T_3051a_level0_row0\" class=\"row_heading level0 row0\" >0</th>\n",
       "                        <td id=\"T_3051a_row0_col0\" class=\"data row0 col0\" >0</td>\n",
       "                        <td id=\"T_3051a_row0_col1\" class=\"data row0 col1\" >2021-12-01T18:00</td>\n",
       "                        <td id=\"T_3051a_row0_col2\" class=\"data row0 col2\" >1210881</td>\n",
       "                        <td id=\"T_3051a_row0_col3\" class=\"data row0 col3\" >9.700000</td>\n",
       "                        <td id=\"T_3051a_row0_col4\" class=\"data row0 col4\" >16.500000</td>\n",
       "                        <td id=\"T_3051a_row0_col5\" class=\"data row0 col5\" >-99.000000</td>\n",
       "                        <td id=\"T_3051a_row0_col6\" class=\"data row0 col6\" >7</td>\n",
       "                        <td id=\"T_3051a_row0_col7\" class=\"data row0 col7\" >0.000000</td>\n",
       "                        <td id=\"T_3051a_row0_col8\" class=\"data row0 col8\" >2.700000</td>\n",
       "                        <td id=\"T_3051a_row0_col9\" class=\"data row0 col9\" >60.000000</td>\n",
       "                        <td id=\"T_3051a_row0_col10\" class=\"data row0 col10\" >1022.800000</td>\n",
       "            </tr>\n",
       "            <tr>\n",
       "                        <th id=\"T_3051a_level0_row1\" class=\"row_heading level0 row1\" >1</th>\n",
       "                        <td id=\"T_3051a_row1_col0\" class=\"data row1 col0\" >1</td>\n",
       "                        <td id=\"T_3051a_row1_col1\" class=\"data row1 col1\" >2021-12-01T18:00</td>\n",
       "                        <td id=\"T_3051a_row1_col2\" class=\"data row1 col2\" >1200533</td>\n",
       "                        <td id=\"T_3051a_row1_col3\" class=\"data row1 col3\" >19.800000</td>\n",
       "                        <td id=\"T_3051a_row1_col4\" class=\"data row1 col4\" >14.800000</td>\n",
       "                        <td id=\"T_3051a_row1_col5\" class=\"data row1 col5\" >-99.000000</td>\n",
       "                        <td id=\"T_3051a_row1_col6\" class=\"data row1 col6\" >8</td>\n",
       "                        <td id=\"T_3051a_row1_col7\" class=\"data row1 col7\" >-99.000000</td>\n",
       "                        <td id=\"T_3051a_row1_col8\" class=\"data row1 col8\" >5.500000</td>\n",
       "                        <td id=\"T_3051a_row1_col9\" class=\"data row1 col9\" >88.000000</td>\n",
       "                        <td id=\"T_3051a_row1_col10\" class=\"data row1 col10\" >1024.100000</td>\n",
       "            </tr>\n",
       "            <tr>\n",
       "                        <th id=\"T_3051a_level0_row2\" class=\"row_heading level0 row2\" >2</th>\n",
       "                        <td id=\"T_3051a_row2_col0\" class=\"data row2 col0\" >2</td>\n",
       "                        <td id=\"T_3051a_row2_col1\" class=\"data row2 col1\" >2021-12-01T18:00</td>\n",
       "                        <td id=\"T_3051a_row2_col2\" class=\"data row2 col2\" >11217430</td>\n",
       "                        <td id=\"T_3051a_row2_col3\" class=\"data row2 col3\" >9.700000</td>\n",
       "                        <td id=\"T_3051a_row2_col4\" class=\"data row2 col4\" >15.300000</td>\n",
       "                        <td id=\"T_3051a_row2_col5\" class=\"data row2 col5\" >102.100000</td>\n",
       "                        <td id=\"T_3051a_row2_col6\" class=\"data row2 col6\" >9</td>\n",
       "                        <td id=\"T_3051a_row2_col7\" class=\"data row2 col7\" >0.000000</td>\n",
       "                        <td id=\"T_3051a_row2_col8\" class=\"data row2 col8\" >2.700000</td>\n",
       "                        <td id=\"T_3051a_row2_col9\" class=\"data row2 col9\" >99.000000</td>\n",
       "                        <td id=\"T_3051a_row2_col10\" class=\"data row2 col10\" >-99.000000</td>\n",
       "            </tr>\n",
       "            <tr>\n",
       "                        <th id=\"T_3051a_level0_row3\" class=\"row_heading level0 row3\" >3</th>\n",
       "                        <td id=\"T_3051a_row3_col0\" class=\"data row3 col0\" >3</td>\n",
       "                        <td id=\"T_3051a_row3_col1\" class=\"data row3 col1\" >2021-12-01T18:00</td>\n",
       "                        <td id=\"T_3051a_row3_col2\" class=\"data row3 col2\" >6212121</td>\n",
       "                        <td id=\"T_3051a_row3_col3\" class=\"data row3 col3\" >5.400000</td>\n",
       "                        <td id=\"T_3051a_row3_col4\" class=\"data row3 col4\" >8.600000</td>\n",
       "                        <td id=\"T_3051a_row3_col5\" class=\"data row3 col5\" >4.000000</td>\n",
       "                        <td id=\"T_3051a_row3_col6\" class=\"data row3 col6\" >6</td>\n",
       "                        <td id=\"T_3051a_row3_col7\" class=\"data row3 col7\" >-99.000000</td>\n",
       "                        <td id=\"T_3051a_row3_col8\" class=\"data row3 col8\" >1.500000</td>\n",
       "                        <td id=\"T_3051a_row3_col9\" class=\"data row3 col9\" >84.000000</td>\n",
       "                        <td id=\"T_3051a_row3_col10\" class=\"data row3 col10\" >1021.200000</td>\n",
       "            </tr>\n",
       "            <tr>\n",
       "                        <th id=\"T_3051a_level0_row4\" class=\"row_heading level0 row4\" >4</th>\n",
       "                        <td id=\"T_3051a_row4_col0\" class=\"data row4 col0\" >4</td>\n",
       "                        <td id=\"T_3051a_row4_col1\" class=\"data row4 col1\" >2021-12-01T18:00</td>\n",
       "                        <td id=\"T_3051a_row4_col2\" class=\"data row4 col2\" >1200560</td>\n",
       "                        <td id=\"T_3051a_row4_col3\" class=\"data row4 col3\" >4.000000</td>\n",
       "                        <td id=\"T_3051a_row4_col4\" class=\"data row4 col4\" >7.300000</td>\n",
       "                        <td id=\"T_3051a_row4_col5\" class=\"data row4 col5\" >-99.000000</td>\n",
       "                        <td id=\"T_3051a_row4_col6\" class=\"data row4 col6\" >8</td>\n",
       "                        <td id=\"T_3051a_row4_col7\" class=\"data row4 col7\" >0.000000</td>\n",
       "                        <td id=\"T_3051a_row4_col8\" class=\"data row4 col8\" >1.100000</td>\n",
       "                        <td id=\"T_3051a_row4_col9\" class=\"data row4 col9\" >96.000000</td>\n",
       "                        <td id=\"T_3051a_row4_col10\" class=\"data row4 col10\" >1022.500000</td>\n",
       "            </tr>\n",
       "            <tr>\n",
       "                        <th id=\"T_3051a_level0_row5\" class=\"row_heading level0 row5\" >5</th>\n",
       "                        <td id=\"T_3051a_row5_col0\" class=\"data row5 col0\" >5</td>\n",
       "                        <td id=\"T_3051a_row5_col1\" class=\"data row5 col1\" >2021-12-01T18:00</td>\n",
       "                        <td id=\"T_3051a_row5_col2\" class=\"data row5 col2\" >1200535</td>\n",
       "                        <td id=\"T_3051a_row5_col3\" class=\"data row5 col3\" >13.700000</td>\n",
       "                        <td id=\"T_3051a_row5_col4\" class=\"data row5 col4\" >14.300000</td>\n",
       "                        <td id=\"T_3051a_row5_col5\" class=\"data row5 col5\" >6.300000</td>\n",
       "                        <td id=\"T_3051a_row5_col6\" class=\"data row5 col6\" >8</td>\n",
       "                        <td id=\"T_3051a_row5_col7\" class=\"data row5 col7\" >0.000000</td>\n",
       "                        <td id=\"T_3051a_row5_col8\" class=\"data row5 col8\" >3.800000</td>\n",
       "                        <td id=\"T_3051a_row5_col9\" class=\"data row5 col9\" >89.000000</td>\n",
       "                        <td id=\"T_3051a_row5_col10\" class=\"data row5 col10\" >1022.700000</td>\n",
       "            </tr>\n",
       "            <tr>\n",
       "                        <th id=\"T_3051a_level0_row6\" class=\"row_heading level0 row6\" >6</th>\n",
       "                        <td id=\"T_3051a_row6_col0\" class=\"data row6 col0\" >6</td>\n",
       "                        <td id=\"T_3051a_row6_col1\" class=\"data row6 col1\" >2021-12-01T18:00</td>\n",
       "                        <td id=\"T_3051a_row6_col2\" class=\"data row6 col2\" >1210721</td>\n",
       "                        <td id=\"T_3051a_row6_col3\" class=\"data row6 col3\" >-99.000000</td>\n",
       "                        <td id=\"T_3051a_row6_col4\" class=\"data row6 col4\" >12.400000</td>\n",
       "                        <td id=\"T_3051a_row6_col5\" class=\"data row6 col5\" >-99.000000</td>\n",
       "                        <td id=\"T_3051a_row6_col6\" class=\"data row6 col6\" >0</td>\n",
       "                        <td id=\"T_3051a_row6_col7\" class=\"data row6 col7\" >0.100000</td>\n",
       "                        <td id=\"T_3051a_row6_col8\" class=\"data row6 col8\" >-99.000000</td>\n",
       "                        <td id=\"T_3051a_row6_col9\" class=\"data row6 col9\" >88.000000</td>\n",
       "                        <td id=\"T_3051a_row6_col10\" class=\"data row6 col10\" >-99.000000</td>\n",
       "            </tr>\n",
       "            <tr>\n",
       "                        <th id=\"T_3051a_level0_row7\" class=\"row_heading level0 row7\" >7</th>\n",
       "                        <td id=\"T_3051a_row7_col0\" class=\"data row7 col0\" >7</td>\n",
       "                        <td id=\"T_3051a_row7_col1\" class=\"data row7 col1\" >2021-12-01T18:00</td>\n",
       "                        <td id=\"T_3051a_row7_col2\" class=\"data row7 col2\" >1210956</td>\n",
       "                        <td id=\"T_3051a_row7_col3\" class=\"data row7 col3\" >9.000000</td>\n",
       "                        <td id=\"T_3051a_row7_col4\" class=\"data row7 col4\" >19.300000</td>\n",
       "                        <td id=\"T_3051a_row7_col5\" class=\"data row7 col5\" >42.400000</td>\n",
       "                        <td id=\"T_3051a_row7_col6\" class=\"data row7 col6\" >3</td>\n",
       "                        <td id=\"T_3051a_row7_col7\" class=\"data row7 col7\" >0.000000</td>\n",
       "                        <td id=\"T_3051a_row7_col8\" class=\"data row7 col8\" >2.500000</td>\n",
       "                        <td id=\"T_3051a_row7_col9\" class=\"data row7 col9\" >69.000000</td>\n",
       "                        <td id=\"T_3051a_row7_col10\" class=\"data row7 col10\" >-99.000000</td>\n",
       "            </tr>\n",
       "            <tr>\n",
       "                        <th id=\"T_3051a_level0_row8\" class=\"row_heading level0 row8\" >8</th>\n",
       "                        <td id=\"T_3051a_row8_col0\" class=\"data row8 col0\" >8</td>\n",
       "                        <td id=\"T_3051a_row8_col1\" class=\"data row8 col1\" >2021-12-01T18:00</td>\n",
       "                        <td id=\"T_3051a_row8_col2\" class=\"data row8 col2\" >1210960</td>\n",
       "                        <td id=\"T_3051a_row8_col3\" class=\"data row8 col3\" >7.600000</td>\n",
       "                        <td id=\"T_3051a_row8_col4\" class=\"data row8 col4\" >16.600000</td>\n",
       "                        <td id=\"T_3051a_row8_col5\" class=\"data row8 col5\" >-99.000000</td>\n",
       "                        <td id=\"T_3051a_row8_col6\" class=\"data row8 col6\" >3</td>\n",
       "                        <td id=\"T_3051a_row8_col7\" class=\"data row8 col7\" >0.000000</td>\n",
       "                        <td id=\"T_3051a_row8_col8\" class=\"data row8 col8\" >2.100000</td>\n",
       "                        <td id=\"T_3051a_row8_col9\" class=\"data row8 col9\" >87.000000</td>\n",
       "                        <td id=\"T_3051a_row8_col10\" class=\"data row8 col10\" >1028.300000</td>\n",
       "            </tr>\n",
       "            <tr>\n",
       "                        <th id=\"T_3051a_level0_row9\" class=\"row_heading level0 row9\" >9</th>\n",
       "                        <td id=\"T_3051a_row9_col0\" class=\"data row9 col0\" >9</td>\n",
       "                        <td id=\"T_3051a_row9_col1\" class=\"data row9 col1\" >2021-12-01T18:00</td>\n",
       "                        <td id=\"T_3051a_row9_col2\" class=\"data row9 col2\" >1210965</td>\n",
       "                        <td id=\"T_3051a_row9_col3\" class=\"data row9 col3\" >-99.000000</td>\n",
       "                        <td id=\"T_3051a_row9_col4\" class=\"data row9 col4\" >15.300000</td>\n",
       "                        <td id=\"T_3051a_row9_col5\" class=\"data row9 col5\" >121.400000</td>\n",
       "                        <td id=\"T_3051a_row9_col6\" class=\"data row9 col6\" >0</td>\n",
       "                        <td id=\"T_3051a_row9_col7\" class=\"data row9 col7\" >0.000000</td>\n",
       "                        <td id=\"T_3051a_row9_col8\" class=\"data row9 col8\" >-99.000000</td>\n",
       "                        <td id=\"T_3051a_row9_col9\" class=\"data row9 col9\" >85.000000</td>\n",
       "                        <td id=\"T_3051a_row9_col10\" class=\"data row9 col10\" >-99.000000</td>\n",
       "            </tr>\n",
       "    </tbody></table>"
      ],
      "text/plain": [
       "<pandas.io.formats.style.Styler at 0x1135cc10>"
      ]
     },
     "execution_count": 129,
     "metadata": {},
     "output_type": "execute_result"
    }
   ],
   "source": [
    "def highlight_max(value):\n",
    "    is_max = value == value.max() # value==value.max(), depois guardei em is_max\n",
    "    return ['background-color: yellow' if v else '' for v in is_max]\n",
    "\n",
    "df.head(10).style.apply(highlight_max, subset=['temperatura', 'intensidadeVentoKM','radiacao'])"
   ]
  },
  {
   "cell_type": "code",
   "execution_count": 130,
   "metadata": {},
   "outputs": [
    {
     "data": {
      "text/html": [
       "<style  type=\"text/css\" >\n",
       "#T_84cc1_row0_col0,#T_84cc1_row1_col0,#T_84cc1_row2_col0,#T_84cc1_row5_col0,#T_84cc1_row8_col0,#T_84cc1_row9_col0{\n",
       "            color:  green;\n",
       "        }#T_84cc1_row3_col0,#T_84cc1_row4_col0,#T_84cc1_row6_col0{\n",
       "            color:  red;\n",
       "        }#T_84cc1_row7_col0{\n",
       "            color:  green;\n",
       "            background-color:  yellow;\n",
       "        }</style><table id=\"T_84cc1_\" ><thead>    <tr>        <th class=\"blank level0\" ></th>        <th class=\"col_heading level0 col0\" >temperatura</th>    </tr></thead><tbody>\n",
       "                <tr>\n",
       "                        <th id=\"T_84cc1_level0_row0\" class=\"row_heading level0 row0\" >0</th>\n",
       "                        <td id=\"T_84cc1_row0_col0\" class=\"data row0 col0\" >16.500000</td>\n",
       "            </tr>\n",
       "            <tr>\n",
       "                        <th id=\"T_84cc1_level0_row1\" class=\"row_heading level0 row1\" >1</th>\n",
       "                        <td id=\"T_84cc1_row1_col0\" class=\"data row1 col0\" >14.800000</td>\n",
       "            </tr>\n",
       "            <tr>\n",
       "                        <th id=\"T_84cc1_level0_row2\" class=\"row_heading level0 row2\" >2</th>\n",
       "                        <td id=\"T_84cc1_row2_col0\" class=\"data row2 col0\" >15.300000</td>\n",
       "            </tr>\n",
       "            <tr>\n",
       "                        <th id=\"T_84cc1_level0_row3\" class=\"row_heading level0 row3\" >3</th>\n",
       "                        <td id=\"T_84cc1_row3_col0\" class=\"data row3 col0\" >8.600000</td>\n",
       "            </tr>\n",
       "            <tr>\n",
       "                        <th id=\"T_84cc1_level0_row4\" class=\"row_heading level0 row4\" >4</th>\n",
       "                        <td id=\"T_84cc1_row4_col0\" class=\"data row4 col0\" >7.300000</td>\n",
       "            </tr>\n",
       "            <tr>\n",
       "                        <th id=\"T_84cc1_level0_row5\" class=\"row_heading level0 row5\" >5</th>\n",
       "                        <td id=\"T_84cc1_row5_col0\" class=\"data row5 col0\" >14.300000</td>\n",
       "            </tr>\n",
       "            <tr>\n",
       "                        <th id=\"T_84cc1_level0_row6\" class=\"row_heading level0 row6\" >6</th>\n",
       "                        <td id=\"T_84cc1_row6_col0\" class=\"data row6 col0\" >12.400000</td>\n",
       "            </tr>\n",
       "            <tr>\n",
       "                        <th id=\"T_84cc1_level0_row7\" class=\"row_heading level0 row7\" >7</th>\n",
       "                        <td id=\"T_84cc1_row7_col0\" class=\"data row7 col0\" >19.300000</td>\n",
       "            </tr>\n",
       "            <tr>\n",
       "                        <th id=\"T_84cc1_level0_row8\" class=\"row_heading level0 row8\" >8</th>\n",
       "                        <td id=\"T_84cc1_row8_col0\" class=\"data row8 col0\" >16.600000</td>\n",
       "            </tr>\n",
       "            <tr>\n",
       "                        <th id=\"T_84cc1_level0_row9\" class=\"row_heading level0 row9\" >9</th>\n",
       "                        <td id=\"T_84cc1_row9_col0\" class=\"data row9 col0\" >15.300000</td>\n",
       "            </tr>\n",
       "    </tbody></table>"
      ],
      "text/plain": [
       "<pandas.io.formats.style.Styler at 0x112821f0>"
      ]
     },
     "execution_count": 130,
     "metadata": {},
     "output_type": "execute_result"
    }
   ],
   "source": [
    "def color_negative_red(value):\n",
    "    color = 'red' if value < 13 else 'green'\n",
    "    return 'color: %s'%color # seria como se eu tivesse fazendo return 'color: red' ou return 'color: black'\n",
    "\n",
    "df[['temperatura']].head(10).style.applymap(color_negative_red).apply(highlight_max)"
   ]
  }
 ],
 "metadata": {
  "interpreter": {
   "hash": "b3ba2566441a7c06988d0923437866b63cedc61552a5af99d1f4fb67d367b25f"
  },
  "kernelspec": {
   "display_name": "Python 3.8.8 64-bit ('base': conda)",
   "name": "python3"
  },
  "language_info": {
   "codemirror_mode": {
    "name": "ipython",
    "version": 3
   },
   "file_extension": ".py",
   "mimetype": "text/x-python",
   "name": "python",
   "nbconvert_exporter": "python",
   "pygments_lexer": "ipython3",
   "version": "3.8.8"
  },
  "orig_nbformat": 4
 },
 "nbformat": 4,
 "nbformat_minor": 2
}
